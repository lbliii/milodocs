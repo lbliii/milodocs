{
 "cells": [
  {
   "cell_type": "markdown",
   "metadata": {},
   "source": [
    "# This is my first notebook\n",
    "\n",
    "Hello world :)"
   ]
  },
  {
   "cell_type": "markdown",
   "metadata": {},
   "source": [
    "## Before You Start\n",
    "\n",
    "Before diving into this notebook, make sure you have the following prerequisites:\n",
    "\n",
    "*   **Environment Setup**: Set up your Python environment. We recommend using a virtual environment to manage dependencies.\n",
    "*   **Dependencies**: Ensure you have the necessary libraries installed. You can typically install these using `pip`.\n"
   ]
  },
  {
   "cell_type": "code",
   "execution_count": null,
   "metadata": {
    "vscode": {
     "languageId": "plaintext"
    }
   },
   "outputs": [],
   "source": [
    "print(\"hello world\")"
   ]
  }
 ],
 "metadata": {
  "language_info": {
   "name": "python"
  }
 },
 "nbformat": 4,
 "nbformat_minor": 2
}
